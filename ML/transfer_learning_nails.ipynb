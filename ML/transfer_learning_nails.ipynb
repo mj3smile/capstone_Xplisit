{
  "nbformat": 4,
  "nbformat_minor": 0,
  "metadata": {
    "accelerator": "GPU",
    "colab": {
      "name": "transfer learning nails.ipynb",
      "provenance": [],
      "collapsed_sections": [],
      "include_colab_link": true
    },
    "kernelspec": {
      "display_name": "Python 3",
      "language": "python",
      "name": "python3"
    }
  },
  "cells": [
    {
      "cell_type": "markdown",
      "metadata": {
        "id": "view-in-github",
        "colab_type": "text"
      },
      "source": [
        "<a href=\"https://colab.research.google.com/github/zahriha/capstone_Xplisit/blob/main/ML/transfer_learning_nails.ipynb\" target=\"_parent\"><img src=\"https://colab.research.google.com/assets/colab-badge.svg\" alt=\"Open In Colab\"/></a>"
      ]
    },
    {
      "cell_type": "code",
      "metadata": {
        "id": "QwxgLGRgx-75"
      },
      "source": [
        "import os\n",
        "import zipfile\n",
        "import random\n",
        "import tensorflow as tf\n",
        "import shutil\n",
        "import keras_preprocessing\n",
        "from keras_preprocessing import image\n",
        "from keras_preprocessing.image import ImageDataGenerator\n",
        "from tensorflow.keras.optimizers import RMSprop\n",
        "from shutil import copyfile\n",
        "from os import getcwd\n",
        "import matplotlib.pyplot as plt\n",
        "import matplotlib.image as mpimg\n",
        "import cv2\n",
        "import numpy as np\n",
        "\n"
      ],
      "execution_count": 1,
      "outputs": []
    },
    {
      "cell_type": "code",
      "metadata": {
        "id": "FOBh_PWMfLgF"
      },
      "source": [
        "path_nails = f\"/content/nail diseases.zip\"\n",
        "\n",
        "local_zip = path_nails\n",
        "zip_ref = zipfile.ZipFile(local_zip, 'r')\n",
        "zip_ref.extractall('/content/')\n",
        "zip_ref.close()"
      ],
      "execution_count": 2,
      "outputs": []
    },
    {
      "cell_type": "code",
      "metadata": {
        "id": "SVPgwyIIgTlC"
      },
      "source": [
        "ORIGINDIR = \"/content/nail diseases\"\n",
        "DATADIR = \"/content/Data\"\n",
        "TRAINORTEST = [\"training\", \"testing\"]\n",
        "CATEGORIES = [\"aloperia areata\", \n",
        "              \"beau's lines\", \n",
        "              \"bluish nail\", \n",
        "              \"clubbing\", \n",
        "              \"darier's disease\", \n",
        "              \"eczema\", \n",
        "              \"koilonychia\", \n",
        "              \"leukonychia\", \n",
        "              \"lindsay's nails\", \n",
        "              \"muehrck-e's lines\", \n",
        "              \"normal\", \n",
        "              \"onycholycis\", \n",
        "              \"pale nail\", \n",
        "              \"splinter hemmorrage\", \n",
        "              \"terry's nail\"]"
      ],
      "execution_count": 3,
      "outputs": []
    },
    {
      "cell_type": "code",
      "metadata": {
        "colab": {
          "base_uri": "https://localhost:8080/"
        },
        "id": "hRUNbJ3sgWgc",
        "outputId": "13eaff3a-ddbc-47d6-d52c-d334839dc180"
      },
      "source": [
        "counter = 0\n",
        "\n",
        "for trainortest in TRAINORTEST:\n",
        "  path = os.path.join(DATADIR, trainortest)\n",
        "  for category in CATEGORIES:\n",
        "    counter += 1\n",
        "    originpath = os.path.join(ORIGINDIR, category)\n",
        "    path2 = os.path.join(path, category)\n",
        "    if(counter) <= 14:\n",
        "      print(category, \"Datasets Has: \", len(os.listdir(originpath)) ,\"Data\")\n",
        "    os.makedirs(path2)\n",
        "    pass"
      ],
      "execution_count": 4,
      "outputs": [
        {
          "output_type": "stream",
          "text": [
            "aloperia areata Datasets Has:  43 Data\n",
            "beau's lines Datasets Has:  38 Data\n",
            "bluish nail Datasets Has:  40 Data\n",
            "clubbing Datasets Has:  37 Data\n",
            "darier's disease Datasets Has:  44 Data\n",
            "eczema Datasets Has:  42 Data\n",
            "koilonychia Datasets Has:  36 Data\n",
            "leukonychia Datasets Has:  30 Data\n",
            "lindsay's nails Datasets Has:  36 Data\n",
            "muehrck-e's lines Datasets Has:  32 Data\n",
            "normal Datasets Has:  49 Data\n",
            "onycholycis Datasets Has:  47 Data\n",
            "pale nail Datasets Has:  33 Data\n",
            "splinter hemmorrage Datasets Has:  40 Data\n"
          ],
          "name": "stdout"
        }
      ]
    },
    {
      "cell_type": "code",
      "metadata": {
        "id": "c3arjbIigZEH"
      },
      "source": [
        "def split_data(SOURCE, TRAINING, TESTING, SPLIT_SIZE):\n",
        "    files = []\n",
        "    for filename in os.listdir(SOURCE):\n",
        "        file = SOURCE + filename\n",
        "        if os.path.getsize(file) > 0:\n",
        "            files.append(filename)\n",
        "        else:\n",
        "            print(filename + \" is zero length, so ignoring.\")\n",
        "    \n",
        "    training_sets = int(len(files) * SPLIT_SIZE)\n",
        "    testing_sets = int(len(files) - training_sets)\n",
        "    randomed = random.sample(files,len(files))\n",
        "    training_files = randomed[0:training_sets]\n",
        "    testing_files = randomed[:testing_sets]\n",
        "    \n",
        "    for filename in training_files:\n",
        "        source = SOURCE + filename\n",
        "        destination = TRAINING + filename\n",
        "        copyfile(source, destination)\n",
        "        \n",
        "    for filename in testing_files:\n",
        "        source = SOURCE + filename\n",
        "        destination = TESTING + filename\n",
        "        copyfile(source, destination)"
      ],
      "execution_count": 5,
      "outputs": []
    },
    {
      "cell_type": "code",
      "metadata": {
        "id": "QHMdSk0Ggcxm"
      },
      "source": [
        "normal_DIR = \"/content/nail diseases/normal/\"\n",
        "TRAINING_normal_DIR = \"/content/Data/training/normal/\"\n",
        "TESTING_normal_DIR = \"/content/Data/testing/normal/\"\n",
        "\n",
        "aloperia_DIR = \"/content/nail diseases/aloperia areata/\"\n",
        "TRAINING_aloperia_DIR = \"/content/Data/training/aloperia areata/\"\n",
        "TESTING_aloperia_DIR = \"/content/Data/testing/aloperia areata/\"\n",
        "\n",
        "beau_DIR = \"/content/nail diseases/beau's lines/\"\n",
        "TRAINING_beau_DIR = \"/content/Data/training/beau's lines/\"\n",
        "TESTING_beau_DIR = \"/content/Data/testing/beau's lines/\"\n",
        "\n",
        "bluish_DIR = \"/content/nail diseases/bluish nail/\"\n",
        "TRAINING_bluish_DIR = \"/content/Data/training/bluish nail/\"\n",
        "TESTING_bluish_DIR = \"/content/Data/testing/bluish nail/\"\n",
        "\n",
        "clubbing_DIR = \"/content/nail diseases/clubbing/\"\n",
        "TRAINING_clubbing_DIR = \"/content/Data/training/clubbing/\"\n",
        "TESTING_clubbing_DIR = \"/content/Data/testing/clubbing/\"\n",
        "\n",
        "Darier_DIR = \"/content/nail diseases/darier's disease/\"\n",
        "TRAINING_Darier_DIR = \"/content/Data/training/darier's disease/\"\n",
        "TESTING_Darier_DIR = \"/content/Data/testing/darier's disease/\"\n",
        "\n",
        "eczema_DIR = \"/content/nail diseases/eczema/\"\n",
        "TRAINING_eczema_DIR = \"/content/Data/training/eczema/\"\n",
        "TESTING_eczema_DIR = \"/content/Data/testing/eczema/\"\n",
        "\n",
        "koilonychia_DIR = \"/content/nail diseases/koilonychia/\"\n",
        "TRAINING_koilonychia_DIR = \"/content/Data/training/koilonychia/\"\n",
        "TESTING_koilonychia_DIR = \"/content/Data/testing/koilonychia/\"\n",
        "\n",
        "leukonychia_DIR = \"/content/nail diseases/leukonychia/\"\n",
        "TRAINING_leukonychia_DIR = \"/content/Data/training/leukonychia/\"\n",
        "TESTING_leukonychia_DIR = \"/content/Data/testing/leukonychia/\"\n",
        "\n",
        "lindsay_DIR = \"/content/nail diseases/lindsay's nails/\"\n",
        "TRAINING_lindsay_DIR = \"/content/Data/training/lindsay's nails/\"\n",
        "TESTING_lindsay_DIR = \"/content/Data/testing/lindsay's nails/\"\n",
        "\n",
        "Muehrck_DIR = \"/content/nail diseases/muehrck-e's lines/\"\n",
        "TRAINING_Muehrck_DIR = \"/content/Data/training/muehrck-e's lines/\"\n",
        "TESTING_Muehrck_DIR = \"/content/Data/testing/muehrck-e's lines/\"\n",
        "\n",
        "onycholycis_DIR = \"/content/nail diseases/onycholycis/\"\n",
        "TRAINING_onycholycis_DIR = \"/content/Data/training/onycholycis/\"\n",
        "TESTING_onycholycis_DIR = \"/content/Data/testing/onycholycis/\"\n",
        "\n",
        "pale_nail_DIR = \"/content/nail diseases/pale nail/\"\n",
        "TRAINING_pale_nail_DIR = \"/content/Data/training/pale nail/\"\n",
        "TESTING_pale_nail_DIR = \"/content/Data/testing/pale nail/\"\n",
        "\n",
        "splinter_hemmorrage_DIR = \"/content/nail diseases/splinter hemmorrage/\"\n",
        "TRAINING_splinter_hemmorrage_DIR = \"/content/Data/training/splinter hemmorrage/\"\n",
        "TESTING_splinter_hemmorrage_DIR = \"/content/Data/testing/splinter hemmorrage/\"\n",
        "\n",
        "terry_DIR = \"/content/nail diseases/terry's nail/\"\n",
        "TRAINING_terry_DIR = \"/content/Data/training/terry's nail/\"\n",
        "TESTING_terry_DIR = \"/content/Data/testing/terry's nail/\"\n",
        "\n",
        "\n",
        "split_size = .75\n",
        "\n",
        "split_data(Darier_DIR, TRAINING_Darier_DIR, TESTING_Darier_DIR, split_size)\n",
        "split_data(Muehrck_DIR, TRAINING_Muehrck_DIR, TESTING_Muehrck_DIR, split_size)\n",
        "split_data(aloperia_DIR, TRAINING_aloperia_DIR, TESTING_aloperia_DIR, split_size)\n",
        "split_data(beau_DIR, TRAINING_beau_DIR, TESTING_beau_DIR, split_size)\n",
        "split_data(bluish_DIR, TRAINING_bluish_DIR, TESTING_bluish_DIR, split_size)\n",
        "split_data(clubbing_DIR, TRAINING_clubbing_DIR, TESTING_clubbing_DIR, split_size)\n",
        "split_data(eczema_DIR, TRAINING_eczema_DIR, TESTING_eczema_DIR, split_size)\n",
        "split_data(koilonychia_DIR, TRAINING_koilonychia_DIR, TESTING_koilonychia_DIR, split_size)\n",
        "split_data(leukonychia_DIR, TRAINING_leukonychia_DIR, TESTING_leukonychia_DIR, split_size)\n",
        "split_data(lindsay_DIR, TRAINING_lindsay_DIR, TESTING_lindsay_DIR, split_size)\n",
        "split_data(onycholycis_DIR, TRAINING_onycholycis_DIR, TESTING_onycholycis_DIR, split_size)\n",
        "split_data(pale_nail_DIR, TRAINING_pale_nail_DIR, TESTING_pale_nail_DIR, split_size)\n",
        "split_data(splinter_hemmorrage_DIR, TRAINING_splinter_hemmorrage_DIR, TESTING_splinter_hemmorrage_DIR, split_size)\n",
        "split_data(terry_DIR, TRAINING_terry_DIR, TESTING_terry_DIR, split_size)\n",
        "split_data(normal_DIR, TRAINING_normal_DIR, TESTING_normal_DIR, split_size)"
      ],
      "execution_count": 6,
      "outputs": []
    },
    {
      "cell_type": "code",
      "metadata": {
        "colab": {
          "base_uri": "https://localhost:8080/"
        },
        "id": "J3te-OsuDDXt",
        "outputId": "f342696f-2787-4b18-ffe5-6505ce2d5e44"
      },
      "source": [
        "import tensorflow as tf\n",
        "import keras_preprocessing\n",
        "from keras_preprocessing import image\n",
        "from keras_preprocessing.image import ImageDataGenerator\n",
        "\n",
        "TRAINING_DIR = \"/content/Data/training\"\n",
        "training_datagen = ImageDataGenerator(\n",
        "      rescale = 1.0/255.)\n",
        "\n",
        "VALIDATION_DIR = \"/content/Data/testing\"\n",
        "validation_datagen = ImageDataGenerator(rescale = 1.0/255.)\n",
        "\n",
        "train_generator = training_datagen.flow_from_directory(\n",
        "    TRAINING_DIR,\n",
        "    target_size=(299,299),\n",
        "    class_mode='categorical'\n",
        ")\n",
        "\n",
        "validation_generator = validation_datagen.flow_from_directory(\n",
        "    VALIDATION_DIR,\n",
        "    target_size=(299,299),\n",
        "    class_mode='categorical'\n",
        ")"
      ],
      "execution_count": 7,
      "outputs": [
        {
          "output_type": "stream",
          "text": [
            "Found 431 images belonging to 15 classes.\n",
            "Found 150 images belonging to 15 classes.\n"
          ],
          "name": "stdout"
        }
      ]
    },
    {
      "cell_type": "code",
      "metadata": {
        "colab": {
          "base_uri": "https://localhost:8080/"
        },
        "id": "JxpqKKHeDXIE",
        "outputId": "88ce335f-ee8c-4bff-abe7-a6c0c20a2a17"
      },
      "source": [
        "from tensorflow.keras.applications.inception_v3 import InceptionV3\n",
        "from tensorflow.keras.applications.xception import Xception\n",
        "from tensorflow.keras.preprocessing import image\n",
        "from tensorflow.keras.models import Model\n",
        "from tensorflow.keras.layers import Dropout, Dense, GlobalAveragePooling2D\n",
        "from tensorflow.keras.optimizers import Adam\n",
        "\n",
        "\n",
        "# Pretrained Model + Fine Tuning (https://keras.io/api/applications/)\n",
        "# create the base pre-trained model : Xception + global spatial average pooling\n",
        "base_model = Xception(weights='imagenet', input_shape = (299,299,3), include_top=False, pooling = 'avg')\n",
        "\n",
        "# add a global spatial average pooling layer\n",
        "x = base_model.output\n",
        "# let's add a fully-connected layer\n",
        "x = Dense(256, activation='relu')(x)\n",
        "# and a logistic layer -- 18 classes\n",
        "predictions = Dense(15, activation='softmax')(x)\n",
        "\n",
        "# this is the model we will train\n",
        "model = Model(inputs=base_model.input, outputs=predictions)\n",
        "\n",
        "# first: train only the top layers (which were randomly initialized)\n",
        "# i.e. freeze all convolutional InceptionV3 layers\n",
        "for layer in base_model.layers:\n",
        "    layer.trainable = False\n",
        "\n",
        "# compile the model (should be done *after* setting layers to non-trainable)\n",
        "opt = Adam(lr=0.001, decay = 1e-6, beta_1=0.9, beta_2=0.999, amsgrad=False)\n",
        "model.compile(optimizer=opt, loss='categorical_crossentropy', metrics = ['accuracy'])\n",
        "\n",
        "callbacks=myCallback()\n",
        "# train the model on the new data for a few epochs\n",
        "model.fit(train_generator, epochs=4, validation_data = validation_generator, verbose = 1)\n",
        "\n",
        "# at this point, the top layers are well trained and we can start fine-tuning\n",
        "# convolutional layers from Xception. We will freeze the bottom N layers\n",
        "# and train the remaining top layers.\n",
        "\n",
        "# let's visualize layer names and layer indices to see how many layers\n",
        "# we should freeze:\n",
        "for i, layer in enumerate(base_model.layers):\n",
        "    print(i, layer.name)\n",
        "\n",
        "# we chose to train the last inception blocks, i.e. we will freeze\n",
        "# the first 125 layers and unfreeze the rest:\n",
        "for layer in model.layers[:125]:\n",
        "    layer.trainable = False\n",
        "for layer in model.layers[125:]:\n",
        "    layer.trainable = True\n",
        "# we need to recompile the model for these modifications to take effect\n",
        "model.compile(optimizer=opt, loss='categorical_crossentropy', metrics = ['accuracy'])\n",
        "\n",
        "# we train our model again (this time fine-tuning the top 2 inception blocks\n",
        "# alongside the top Dense layers\n",
        "history = model.fit(\n",
        "    train_generator, \n",
        "    epochs=4, \n",
        "    validation_data = validation_generator, \n",
        "    verbose = 1\n",
        "    )"
      ],
      "execution_count": 34,
      "outputs": [
        {
          "output_type": "stream",
          "text": [
            "/usr/local/lib/python3.7/dist-packages/tensorflow/python/keras/optimizer_v2/optimizer_v2.py:375: UserWarning: The `lr` argument is deprecated, use `learning_rate` instead.\n",
            "  \"The `lr` argument is deprecated, use `learning_rate` instead.\")\n"
          ],
          "name": "stderr"
        },
        {
          "output_type": "stream",
          "text": [
            "Epoch 1/4\n",
            "14/14 [==============================] - 8s 401ms/step - loss: 2.5405 - accuracy: 0.1949 - val_loss: 2.0570 - val_accuracy: 0.3533\n",
            "Epoch 2/4\n",
            "14/14 [==============================] - 5s 362ms/step - loss: 1.8703 - accuracy: 0.4432 - val_loss: 1.5733 - val_accuracy: 0.6067\n",
            "Epoch 3/4\n",
            "14/14 [==============================] - 5s 359ms/step - loss: 1.4362 - accuracy: 0.6497 - val_loss: 1.1630 - val_accuracy: 0.7200\n",
            "Epoch 4/4\n",
            "14/14 [==============================] - 5s 364ms/step - loss: 1.0981 - accuracy: 0.7448 - val_loss: 0.9476 - val_accuracy: 0.8133\n",
            "0 input_10\n",
            "1 block1_conv1\n",
            "2 block1_conv1_bn\n",
            "3 block1_conv1_act\n",
            "4 block1_conv2\n",
            "5 block1_conv2_bn\n",
            "6 block1_conv2_act\n",
            "7 block2_sepconv1\n",
            "8 block2_sepconv1_bn\n",
            "9 block2_sepconv2_act\n",
            "10 block2_sepconv2\n",
            "11 block2_sepconv2_bn\n",
            "12 conv2d_36\n",
            "13 block2_pool\n",
            "14 batch_normalization_36\n",
            "15 add_108\n",
            "16 block3_sepconv1_act\n",
            "17 block3_sepconv1\n",
            "18 block3_sepconv1_bn\n",
            "19 block3_sepconv2_act\n",
            "20 block3_sepconv2\n",
            "21 block3_sepconv2_bn\n",
            "22 conv2d_37\n",
            "23 block3_pool\n",
            "24 batch_normalization_37\n",
            "25 add_109\n",
            "26 block4_sepconv1_act\n",
            "27 block4_sepconv1\n",
            "28 block4_sepconv1_bn\n",
            "29 block4_sepconv2_act\n",
            "30 block4_sepconv2\n",
            "31 block4_sepconv2_bn\n",
            "32 conv2d_38\n",
            "33 block4_pool\n",
            "34 batch_normalization_38\n",
            "35 add_110\n",
            "36 block5_sepconv1_act\n",
            "37 block5_sepconv1\n",
            "38 block5_sepconv1_bn\n",
            "39 block5_sepconv2_act\n",
            "40 block5_sepconv2\n",
            "41 block5_sepconv2_bn\n",
            "42 block5_sepconv3_act\n",
            "43 block5_sepconv3\n",
            "44 block5_sepconv3_bn\n",
            "45 add_111\n",
            "46 block6_sepconv1_act\n",
            "47 block6_sepconv1\n",
            "48 block6_sepconv1_bn\n",
            "49 block6_sepconv2_act\n",
            "50 block6_sepconv2\n",
            "51 block6_sepconv2_bn\n",
            "52 block6_sepconv3_act\n",
            "53 block6_sepconv3\n",
            "54 block6_sepconv3_bn\n",
            "55 add_112\n",
            "56 block7_sepconv1_act\n",
            "57 block7_sepconv1\n",
            "58 block7_sepconv1_bn\n",
            "59 block7_sepconv2_act\n",
            "60 block7_sepconv2\n",
            "61 block7_sepconv2_bn\n",
            "62 block7_sepconv3_act\n",
            "63 block7_sepconv3\n",
            "64 block7_sepconv3_bn\n",
            "65 add_113\n",
            "66 block8_sepconv1_act\n",
            "67 block8_sepconv1\n",
            "68 block8_sepconv1_bn\n",
            "69 block8_sepconv2_act\n",
            "70 block8_sepconv2\n",
            "71 block8_sepconv2_bn\n",
            "72 block8_sepconv3_act\n",
            "73 block8_sepconv3\n",
            "74 block8_sepconv3_bn\n",
            "75 add_114\n",
            "76 block9_sepconv1_act\n",
            "77 block9_sepconv1\n",
            "78 block9_sepconv1_bn\n",
            "79 block9_sepconv2_act\n",
            "80 block9_sepconv2\n",
            "81 block9_sepconv2_bn\n",
            "82 block9_sepconv3_act\n",
            "83 block9_sepconv3\n",
            "84 block9_sepconv3_bn\n",
            "85 add_115\n",
            "86 block10_sepconv1_act\n",
            "87 block10_sepconv1\n",
            "88 block10_sepconv1_bn\n",
            "89 block10_sepconv2_act\n",
            "90 block10_sepconv2\n",
            "91 block10_sepconv2_bn\n",
            "92 block10_sepconv3_act\n",
            "93 block10_sepconv3\n",
            "94 block10_sepconv3_bn\n",
            "95 add_116\n",
            "96 block11_sepconv1_act\n",
            "97 block11_sepconv1\n",
            "98 block11_sepconv1_bn\n",
            "99 block11_sepconv2_act\n",
            "100 block11_sepconv2\n",
            "101 block11_sepconv2_bn\n",
            "102 block11_sepconv3_act\n",
            "103 block11_sepconv3\n",
            "104 block11_sepconv3_bn\n",
            "105 add_117\n",
            "106 block12_sepconv1_act\n",
            "107 block12_sepconv1\n",
            "108 block12_sepconv1_bn\n",
            "109 block12_sepconv2_act\n",
            "110 block12_sepconv2\n",
            "111 block12_sepconv2_bn\n",
            "112 block12_sepconv3_act\n",
            "113 block12_sepconv3\n",
            "114 block12_sepconv3_bn\n",
            "115 add_118\n",
            "116 block13_sepconv1_act\n",
            "117 block13_sepconv1\n",
            "118 block13_sepconv1_bn\n",
            "119 block13_sepconv2_act\n",
            "120 block13_sepconv2\n",
            "121 block13_sepconv2_bn\n",
            "122 conv2d_39\n",
            "123 block13_pool\n",
            "124 batch_normalization_39\n",
            "125 add_119\n",
            "126 block14_sepconv1\n",
            "127 block14_sepconv1_bn\n",
            "128 block14_sepconv1_act\n",
            "129 block14_sepconv2\n",
            "130 block14_sepconv2_bn\n",
            "131 block14_sepconv2_act\n",
            "132 global_average_pooling2d_9\n",
            "Epoch 1/4\n",
            "14/14 [==============================] - 8s 446ms/step - loss: 1.3469 - accuracy: 0.5916 - val_loss: 0.5415 - val_accuracy: 0.8333\n",
            "Epoch 2/4\n",
            "14/14 [==============================] - 6s 399ms/step - loss: 0.2384 - accuracy: 0.9536 - val_loss: 0.2030 - val_accuracy: 0.9267\n",
            "Epoch 3/4\n",
            "14/14 [==============================] - 6s 403ms/step - loss: 0.0607 - accuracy: 0.9814 - val_loss: 0.0530 - val_accuracy: 0.9733\n",
            "Epoch 4/4\n",
            "14/14 [==============================] - 6s 405ms/step - loss: 0.0251 - accuracy: 0.9954 - val_loss: 0.1018 - val_accuracy: 0.9667\n"
          ],
          "name": "stdout"
        }
      ]
    },
    {
      "cell_type": "code",
      "metadata": {
        "id": "8Sia5IaHUsfj",
        "colab": {
          "base_uri": "https://localhost:8080/"
        },
        "outputId": "f211a493-0575-4e19-a2c6-a5f1aa951833"
      },
      "source": [
        "model.save(\"model_xception_nails_v2.h5\")\n",
        "#convert to json\n",
        "model_json = model.to_json()\n",
        "with open(\"model.json\", \"w\") as json_file:\n",
        "  json_file.write(model_json)\n",
        "\n",
        "model.save_weights(\"model.h5\")"
      ],
      "execution_count": 37,
      "outputs": [
        {
          "output_type": "stream",
          "text": [
            "/usr/local/lib/python3.7/dist-packages/tensorflow/python/keras/utils/generic_utils.py:497: CustomMaskWarning: Custom mask layers require a config and must override get_config. When loading, the custom mask layer must be passed to the custom_objects argument.\n",
            "  category=CustomMaskWarning)\n"
          ],
          "name": "stderr"
        }
      ]
    },
    {
      "cell_type": "code",
      "metadata": {
        "colab": {
          "base_uri": "https://localhost:8080/",
          "height": 573
        },
        "id": "eusIqX_UGfqq",
        "outputId": "4ef9f9c1-2dd3-49e4-fa7a-c3db8f2e1401"
      },
      "source": [
        "def plot_train_history(history):\n",
        "    # Summarize history for accuracy\n",
        "    plt.plot(history.history['accuracy'])\n",
        "    plt.plot(history.history['val_accuracy'])\n",
        "    plt.title('Model accuracy')\n",
        "    plt.ylabel('accuracy')\n",
        "    plt.xlabel('epoch')\n",
        "    plt.legend(['train', 'test'], loc='upper left')\n",
        "    plt.show()\n",
        "\n",
        "    # Summarize history for loss\n",
        "    plt.plot(history.history['loss'])\n",
        "    plt.plot(history.history['val_loss'])\n",
        "    plt.title('Model loss')\n",
        "    plt.ylabel('loss')\n",
        "    plt.xlabel('epoch')\n",
        "    plt.legend(['train', 'test'], loc='upper left')\n",
        "    plt.show()\n",
        "\n",
        "plot_train_history(history)"
      ],
      "execution_count": 38,
      "outputs": [
        {
          "output_type": "display_data",
          "data": {
            "image/png": "[encoded data removed]",
            "text/plain": [
              "<Figure size 432x288 with 1 Axes>"
            ]
          },
          "metadata": {
            "tags": [],
            "needs_background": "light"
          }
        },
        {
          "output_type": "display_data",
          "data": {
            "image/png": "[encoded data removed]",
            "text/plain": [
              "<Figure size 432x288 with 1 Axes>"
            ]
          },
          "metadata": {
            "tags": [],
            "needs_background": "light"
          }
        }
      ]
    },
    {
      "cell_type": "code",
      "metadata": {
        "colab": {
          "base_uri": "https://localhost:8080/",
          "height": 50
        },
        "id": "IFahMejRdXUf",
        "outputId": "283e74bc-ea79-4b10-ef5f-045d2b9fe8f8"
      },
      "source": [
        "import tensorflow as tf\n",
        "\n",
        "# Load the model.\n",
        "new_model= tf.keras.models.load_model(filepath=\"model_xception_v2.h5\")\n",
        "\n",
        "# Convert the model.\n",
        "converter = tf.lite.TFLiteConverter.from_keras_model(new_model)\n",
        "tflite_model = converter.convert()\n",
        "\n",
        "# Save the TF Lite model.\n",
        "with tf.io.gfile.GFile('model_xception_v2.tflite', 'wb') as f:\n",
        "  f.write(tflite_model)"
      ],
      "execution_count": null,
      "outputs": [
        {
          "output_type": "stream",
          "text": [
            "WARNING:tensorflow:Error in loading the saved optimizer state. As a result, your model is starting with a freshly initialized optimizer.\n"
          ],
          "name": "stdout"
        },
        {
          "output_type": "stream",
          "text": [
            "WARNING:tensorflow:Error in loading the saved optimizer state. As a result, your model is starting with a freshly initialized optimizer.\n"
          ],
          "name": "stderr"
        }
      ]
    },
    {
      "cell_type": "code",
      "metadata": {
        "id": "tZ_UC58C-QyV"
      },
      "source": [
        "import numpy as np\n",
        "import pickle\n",
        "import cv2\n",
        "from os import listdir\n",
        "from sklearn.preprocessing import LabelBinarizer\n",
        "from keras.models import Sequential\n",
        "from keras.layers.normalization import BatchNormalization\n",
        "from keras.layers.convolutional import Conv2D\n",
        "from keras.layers.convolutional import MaxPooling2D\n",
        "from keras.layers.core import Activation, Flatten, Dropout, Dense\n",
        "from keras import backend as K\n",
        "from keras.preprocessing.image import ImageDataGenerator\n",
        "from keras.optimizers import Adam\n",
        "from keras.preprocessing import image\n",
        "from keras.preprocessing.image import img_to_array\n",
        "from sklearn.preprocessing import MultiLabelBinarizer\n",
        "from sklearn.model_selection import train_test_split\n",
        "import matplotlib.pyplot as plt\n",
        "from tensorflow import keras"
      ],
      "execution_count": 71,
      "outputs": []
    },
    {
      "cell_type": "code",
      "metadata": {
        "id": "SDuBCrqH-U26"
      },
      "source": [
        "###prediction\n",
        "EPOCHS = 25\n",
        "INIT_LR = 1e-3\n",
        "BS = 32\n",
        "default_image_size = tuple((299, 299))\n",
        "image_size = 0\n",
        "\n",
        "width=299\n",
        "height=299\n",
        "depth=3"
      ],
      "execution_count": 84,
      "outputs": []
    },
    {
      "cell_type": "code",
      "metadata": {
        "id": "149je2xz-ZeB"
      },
      "source": [
        "#Function to convert images to array\n",
        "def convert_image_to_array(image_dir):\n",
        "    try:\n",
        "        image = cv2.imread(image_dir)\n",
        "        if image is not None :\n",
        "            image = cv2.resize(image, default_image_size)\n",
        "            return img_to_array(image)\n",
        "        else :\n",
        "            return np.array([])\n",
        "    except Exception as e:\n",
        "        print(\"Error : {e}\")\n",
        "        return None"
      ],
      "execution_count": 85,
      "outputs": []
    },
    {
      "cell_type": "code",
      "metadata": {
        "id": "7kHLzc2k-bx3",
        "outputId": "627e9f9d-cc2f-438a-ccfc-39ab93e0acee",
        "colab": {
          "base_uri": "https://localhost:8080/",
          "height": 306
        }
      },
      "source": [
        "#load saved pickle model\n",
        "loaded_model = keras.models.load_model('/content/model_xception_nails_v2.h5')\n",
        "\n",
        "model_disease=loaded_model\n",
        "\n",
        "#load plant leaf image\n",
        "image_dir='/content/eczema1.jpg'\n",
        "img3 = cv2.imread('/content/eczema1.jpg')\n",
        "plt.imshow(img3)\n",
        "plt.show()"
      ],
      "execution_count": 96,
      "outputs": [
        {
          "output_type": "stream",
          "text": [
            "WARNING:tensorflow:Error in loading the saved optimizer state. As a result, your model is starting with a freshly initialized optimizer.\n"
          ],
          "name": "stdout"
        },
        {
          "output_type": "display_data",
          "data": {
            "image/png": "[encoded data removed]",
            "text/plain": [
              "<Figure size 432x288 with 1 Axes>"
            ]
          },
          "metadata": {
            "tags": [],
            "needs_background": "light"
          }
        }
      ]
    },
    {
      "cell_type": "code",
      "metadata": {
        "id": "yj-6VUW--jWk",
        "outputId": "c7e946d5-e9e9-459c-9385-07ad95da9444",
        "colab": {
          "base_uri": "https://localhost:8080/"
        }
      },
      "source": [
        "#convert leaf image to arrays\n",
        "im=convert_image_to_array(image_dir)\n",
        "np_image_li = np.array(im, dtype=np.float16) / 299\n",
        "npp_image = np.expand_dims(np_image_li, axis=0)\n",
        "\n",
        "\n",
        "result=model_disease.predict(npp_image)\n",
        "print(result)\n",
        "\n",
        "itemindex = np.where(result==np.max(result))\n",
        "print(itemindex[1][0])"
      ],
      "execution_count": 97,
      "outputs": [
        {
          "output_type": "stream",
          "text": [
            "WARNING:tensorflow:5 out of the last 20 calls to <function Model.make_predict_function.<locals>.predict_function at 0x7fd234242a70> triggered tf.function retracing. Tracing is expensive and the excessive number of tracings could be due to (1) creating @tf.function repeatedly in a loop, (2) passing tensors with different shapes, (3) passing Python objects instead of tensors. For (1), please define your @tf.function outside of the loop. For (2), @tf.function has experimental_relax_shapes=True option that relaxes argument shapes that can avoid unnecessary retracing. For (3), please refer to https://www.tensorflow.org/guide/function#controlling_retracing and https://www.tensorflow.org/api_docs/python/tf/function for  more details.\n",
            "[[2.2586430e-03 1.4803426e-04 4.2274518e-08 2.3439053e-08 6.3665651e-02\n",
            "  9.2217201e-01 1.0932244e-03 6.8826048e-05 2.7990958e-04 5.4007980e-08\n",
            "  7.9410448e-08 9.5154865e-06 2.2187665e-05 1.7546355e-06 1.0280065e-02]]\n",
            "5\n"
          ],
          "name": "stdout"
        }
      ]
    },
    {
      "cell_type": "code",
      "metadata": {
        "id": "wpclc9PV-550",
        "outputId": "1df99af0-c4b3-4ecc-9b99-70f70fbd83e4",
        "colab": {
          "base_uri": "https://localhost:8080/"
        }
      },
      "source": [
        "reverse_mapping = [\"aloperia areata\",\n",
        "                   \"beau's lines\",\n",
        "                   \"bluish nail\",\n",
        "                   \"clubbing\",\n",
        "                   \"darier's disease\",\n",
        "                   \"eczema\",\n",
        "                   \"koilonychia\",\n",
        "                   \"leukonychia\",\n",
        "                   \"lindsay's nails\",\n",
        "                   \"muehrck-e's lines\" ,\n",
        "                   \"normal\",\n",
        "                   \"onycholycis\",\n",
        "                   \"pale nail\",\n",
        "                   \"splinter hemmorrage\",\n",
        "                   \"terry's nail\"]\n",
        "prediction_name = reverse_mapping[itemindex[1][0]]\n",
        "print(prediction_name)\n",
        "\n",
        "\n",
        "#printing result\n",
        "itemindex = np.where(result==np.max(result))\n",
        "print(\"Probability of \" + prediction_name + \"  is: \" +str(np.max(result)))\n",
        "print(\"Final Diagonasis result : \" +prediction_name)"
      ],
      "execution_count": 98,
      "outputs": [
        {
          "output_type": "stream",
          "text": [
            "eczema\n",
            "Probability of eczema  is: 0.922172\n",
            "Final Diagonasis result : eczema\n"
          ],
          "name": "stdout"
        }
      ]
    }
  ]
}